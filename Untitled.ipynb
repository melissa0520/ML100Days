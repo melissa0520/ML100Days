{
 "cells": [
  {
   "cell_type": "code",
   "execution_count": 1,
   "metadata": {},
   "outputs": [
    {
     "name": "stdout",
     "output_type": "stream",
     "text": [
      "[ True  True  True  True]\n",
      "[False False False False]\n",
      "[False False False False]\n",
      "[ True  True  True  True]\n"
     ]
    }
   ],
   "source": [
    "import numpy as np\n",
    "\n",
    "a = np.array( [20,30,40,50] )\n",
    "b = np.arange( 4 )\n",
    "\n",
    "print(a > b) # [ True  True  True  True]\n",
    "print(a < b) # [False False False False]\n",
    "print(a == b) # [False False False False]\n",
    "print(a != b) # [ True  True  True  True]"
   ]
  },
  {
   "cell_type": "code",
   "execution_count": 2,
   "metadata": {},
   "outputs": [
    {
     "ename": "SyntaxError",
     "evalue": "invalid syntax (<ipython-input-2-f6c09bd1bbdf>, line 7)",
     "output_type": "error",
     "traceback": [
      "\u001b[0;36m  File \u001b[0;32m\"<ipython-input-2-f6c09bd1bbdf>\"\u001b[0;36m, line \u001b[0;32m7\u001b[0m\n\u001b[0;31m    Traceback (most recent call last):\u001b[0m\n\u001b[0m                         ^\u001b[0m\n\u001b[0;31mSyntaxError\u001b[0m\u001b[0;31m:\u001b[0m invalid syntax\n"
     ]
    }
   ],
   "source": [
    "import numpy as np\n",
    "\n",
    "a = np.array( [True, True, False, False] )\n",
    "b = np.array( [True, False, True, False]  )\n",
    "\n",
    "print(a and b)\n",
    "Traceback (most recent call last):\n",
    "  ...\n",
    "ValueError: The truth value of an array with more than one element is ambiguous. Use a.any() or a.all()"
   ]
  },
  {
   "cell_type": "code",
   "execution_count": 3,
   "metadata": {},
   "outputs": [
    {
     "name": "stdout",
     "output_type": "stream",
     "text": [
      "[10 20 30 40]\n",
      "[10 30]\n",
      "[]\n"
     ]
    }
   ],
   "source": [
    "import numpy as np\n",
    "\n",
    "a = np.array( [10, 20, 30, 40] )\n",
    "\n",
    "print(a[ [True, True, True, True] ])\n",
    "# [10 20 30 40]\n",
    "print(a[ [True, False, True, False] ])\n",
    "# [10 30]\n",
    "print(a[ [False, False, False, False] ])\n",
    "# []"
   ]
  },
  {
   "cell_type": "code",
   "execution_count": 1,
   "metadata": {},
   "outputs": [
    {
     "name": "stdout",
     "output_type": "stream",
     "text": [
      "[0 1 2 3 4 5]\n",
      "15\n",
      "0\n",
      "5\n"
     ]
    }
   ],
   "source": [
    "import numpy as np \n",
    "\n",
    "a = np.arange(6)\n",
    "print(a)\n",
    "# [0 1 2 3 4 5]\n",
    "\n",
    "print(a.sum()) # 15\n",
    "print(a.min()) # 0\n",
    "print(a.max()) # 5"
   ]
  },
  {
   "cell_type": "code",
   "execution_count": 2,
   "metadata": {},
   "outputs": [
    {
     "name": "stdout",
     "output_type": "stream",
     "text": [
      "15\n",
      "15\n",
      "15\n"
     ]
    }
   ],
   "source": [
    "import numpy as np \n",
    "\n",
    "a = np.arange(6)\n",
    "\n",
    "print(a.sum()) # 15\n",
    "print(np.sum(a)) # 15\n",
    "print(sum(a)) # 15"
   ]
  },
  {
   "cell_type": "code",
   "execution_count": 3,
   "metadata": {},
   "outputs": [
    {
     "data": {
      "text/plain": [
       "array([0, 5, 2, 4])"
      ]
     },
     "execution_count": 3,
     "metadata": {},
     "output_type": "execute_result"
    }
   ],
   "source": [
    "import numpy as np \n",
    "\n",
    "np.searchsorted(\n",
    "    [1, 2, 3, 4, 5],\n",
    "    [-10, 10, 3, 5]\n",
    ")\n",
    "# [0, 5, 2, 4]"
   ]
  },
  {
   "cell_type": "code",
   "execution_count": 1,
   "metadata": {},
   "outputs": [
    {
     "name": "stdout",
     "output_type": "stream",
     "text": [
      "[0, 1, 8]\n",
      "8\n",
      "0\n",
      "[1, 8]\n"
     ]
    }
   ],
   "source": [
    "L = [0, 1, 8]\n",
    "\n",
    "print(L)\n",
    "print(L[-1]) # 8\n",
    "print(L[0]) # 0\n",
    "print(L[1:3]) # [1, 8]"
   ]
  },
  {
   "cell_type": "code",
   "execution_count": 3,
   "metadata": {},
   "outputs": [
    {
     "name": "stdout",
     "output_type": "stream",
     "text": [
      "[0 1 8]\n",
      "8\n",
      "0\n",
      "[1 8]\n"
     ]
    }
   ],
   "source": [
    "import numpy as np \n",
    "\n",
    "a = np.arange(3) ** 3\n",
    "\n",
    "print(a)\n",
    "print(a[-1]) # 8\n",
    "print(a[0]) # 0\n",
    "print(a[1:3]) # [1 8]"
   ]
  },
  {
   "cell_type": "code",
   "execution_count": 4,
   "metadata": {},
   "outputs": [
    {
     "name": "stdout",
     "output_type": "stream",
     "text": [
      "1\n",
      "2\n",
      "[1 2]\n",
      "[2 3]\n",
      "[2 3]\n"
     ]
    }
   ],
   "source": [
    "import numpy as np \n",
    "\n",
    "data = np.array([1, 2, 3])\n",
    "\n",
    "print(data[0]) # 取出第 0 個\n",
    "print(data[1]) # 取出第 1 個\n",
    "print(data[0:2]) # 第 0 - 1 個\n",
    "print(data[1:]) # 第 1 到最後一個\n",
    "print(data[-2:]) # 倒數第二到最後一個"
   ]
  },
  {
   "cell_type": "code",
   "execution_count": 5,
   "metadata": {},
   "outputs": [
    {
     "name": "stdout",
     "output_type": "stream",
     "text": [
      "0\n",
      "1\n",
      "8\n"
     ]
    }
   ],
   "source": [
    "import numpy as np \n",
    "\n",
    "a = np.arange(3) ** 3\n",
    "\n",
    "for i in a:\n",
    "    print(i)"
   ]
  },
  {
   "cell_type": "code",
   "execution_count": 14,
   "metadata": {},
   "outputs": [
    {
     "name": "stdout",
     "output_type": "stream",
     "text": [
      "[0 1]\n",
      "[2 3]\n",
      "[4 5]\n"
     ]
    }
   ],
   "source": [
    "import numpy as np \n",
    "\n",
    "a = np.arange(6).reshape(3, 2)\n",
    "\n",
    "for row in a:\n",
    "    print(row)"
   ]
  },
  {
   "cell_type": "code",
   "execution_count": 15,
   "metadata": {},
   "outputs": [
    {
     "name": "stdout",
     "output_type": "stream",
     "text": [
      "0\n",
      "1\n",
      "2\n",
      "3\n",
      "4\n",
      "5\n"
     ]
    }
   ],
   "source": [
    "for row in a:\n",
    "    for d in row:\n",
    "        print(d)"
   ]
  },
  {
   "cell_type": "code",
   "execution_count": 19,
   "metadata": {},
   "outputs": [
    {
     "name": "stdout",
     "output_type": "stream",
     "text": [
      "0\n",
      "2\n",
      "4\n",
      "1\n",
      "3\n",
      "5\n"
     ]
    }
   ],
   "source": [
    "import numpy as np \n",
    "\n",
    "a = np.arange(6).reshape(3,2)\n",
    "\n",
    "for d in np.nditer(a, order='F'):\n",
    "    print(d)"
   ]
  },
  {
   "cell_type": "code",
   "execution_count": 1,
   "metadata": {},
   "outputs": [
    {
     "name": "stdout",
     "output_type": "stream",
     "text": [
      "<module 'pandas' from '/Users/melissaliu/anaconda3/lib/python3.7/site-packages/pandas/__init__.py'>\n",
      "0.23.4\n"
     ]
    }
   ],
   "source": [
    "import pandas as pd\n",
    "print(pd)\n",
    "print(pd.__version__)"
   ]
  },
  {
   "cell_type": "code",
   "execution_count": 5,
   "metadata": {},
   "outputs": [
    {
     "name": "stdout",
     "output_type": "stream",
     "text": [
      "   A  B  C\n",
      "a  1  2  3\n",
      "b  4  5  6\n",
      "(2, 3)\n",
      "6\n",
      "Index(['a', 'b'], dtype='object')\n",
      "Index(['A', 'B', 'C'], dtype='object')\n",
      "[[1 2 3]\n",
      " [4 5 6]]\n"
     ]
    }
   ],
   "source": [
    "import pandas as pd\n",
    "df = pd.DataFrame([[1, 2, 3], [4, 5, 6]], index=['a', 'b'], columns=['A', 'B', 'C'])\n",
    "print(df)\n",
    "print(df.shape)\n",
    "print(df.size)\n",
    "print(df.index)\n",
    "print(df.columns)\n",
    "print(df.values)"
   ]
  },
  {
   "cell_type": "code",
   "execution_count": 1,
   "metadata": {},
   "outputs": [
    {
     "name": "stdout",
     "output_type": "stream",
     "text": [
      "1\n",
      "A    1\n",
      "B    2\n",
      "Name: a, dtype: int64\n",
      "a    1\n",
      "b    4\n",
      "Name: A, dtype: int64\n",
      "   A  B\n",
      "a  1  2\n",
      "b  4  5\n"
     ]
    }
   ],
   "source": [
    "import pandas as pd\n",
    "\n",
    "df = pd.DataFrame([[1, 2, 3], [4, 5, 6]], index=['a', 'b'], columns=['A', 'B', 'C'])\n",
    "\n",
    "print(df.iloc[0, 0]) # 1\n",
    "print(df.iloc[0, [0, 1]])\n",
    "print(df.iloc[[0, 1], 0])\n",
    "print(df.iloc[[0, 1], [0, 1]])\n"
   ]
  },
  {
   "cell_type": "code",
   "execution_count": 2,
   "metadata": {},
   "outputs": [
    {
     "name": "stdout",
     "output_type": "stream",
     "text": [
      "1\n",
      "A    1\n",
      "B    2\n",
      "Name: a, dtype: int64\n",
      "a    1\n",
      "b    4\n",
      "Name: A, dtype: int64\n",
      "   A  B\n",
      "a  1  2\n",
      "b  4  5\n"
     ]
    }
   ],
   "source": [
    "import pandas as pd\n",
    "\n",
    "df = pd.DataFrame([[1, 2, 3], [4, 5, 6]], index=['a', 'b'], columns=['A', 'B', 'C'])\n",
    "\n",
    "print(df.loc['a', 'A']) # 1\n",
    "print(df.loc['a', ['A', 'B']])\n",
    "print(df.loc[['a', 'b'], 'A'])\n",
    "print(df.loc[['a', 'b'], ['A', 'B']])"
   ]
  },
  {
   "cell_type": "code",
   "execution_count": 4,
   "metadata": {},
   "outputs": [
    {
     "name": "stdout",
     "output_type": "stream",
     "text": [
      "1\n",
      "A    1\n",
      "B    2\n",
      "Name: a, dtype: int64\n",
      "a    1\n",
      "b    4\n",
      "Name: A, dtype: int64\n",
      "   A  B\n",
      "a  1  2\n",
      "b  4  5\n"
     ]
    },
    {
     "name": "stderr",
     "output_type": "stream",
     "text": [
      "/Users/melissaliu/anaconda3/lib/python3.7/site-packages/ipykernel_launcher.py:5: DeprecationWarning: \n",
      ".ix is deprecated. Please use\n",
      ".loc for label based indexing or\n",
      ".iloc for positional indexing\n",
      "\n",
      "See the documentation here:\n",
      "http://pandas.pydata.org/pandas-docs/stable/indexing.html#ix-indexer-is-deprecated\n",
      "  \"\"\"\n",
      "/Users/melissaliu/anaconda3/lib/python3.7/site-packages/ipykernel_launcher.py:6: DeprecationWarning: \n",
      ".ix is deprecated. Please use\n",
      ".loc for label based indexing or\n",
      ".iloc for positional indexing\n",
      "\n",
      "See the documentation here:\n",
      "http://pandas.pydata.org/pandas-docs/stable/indexing.html#ix-indexer-is-deprecated\n",
      "  \n",
      "/Users/melissaliu/anaconda3/lib/python3.7/site-packages/ipykernel_launcher.py:7: DeprecationWarning: \n",
      ".ix is deprecated. Please use\n",
      ".loc for label based indexing or\n",
      ".iloc for positional indexing\n",
      "\n",
      "See the documentation here:\n",
      "http://pandas.pydata.org/pandas-docs/stable/indexing.html#ix-indexer-is-deprecated\n",
      "  import sys\n",
      "/Users/melissaliu/anaconda3/lib/python3.7/site-packages/ipykernel_launcher.py:8: DeprecationWarning: \n",
      ".ix is deprecated. Please use\n",
      ".loc for label based indexing or\n",
      ".iloc for positional indexing\n",
      "\n",
      "See the documentation here:\n",
      "http://pandas.pydata.org/pandas-docs/stable/indexing.html#ix-indexer-is-deprecated\n",
      "  \n"
     ]
    }
   ],
   "source": [
    "import pandas as pd\n",
    "\n",
    "df = pd.DataFrame([[1, 2, 3], [4, 5, 6]], index=['a', 'b'], columns=['A', 'B', 'C'])\n",
    "\n",
    "print(df.ix[0, 'A']) # 1\n",
    "print(df.ix['a', [0, 1]])\n",
    "print(df.ix[['a', 'b'], 0])\n",
    "print(df.ix[[0, 1], ['A', 'B']])\n"
   ]
  },
  {
   "cell_type": "code",
   "execution_count": 1,
   "metadata": {},
   "outputs": [
    {
     "name": "stdout",
     "output_type": "stream",
     "text": [
      "    a   b  c   d   e\n",
      "0 NaN NaN  4 NaN NaN\n"
     ]
    }
   ],
   "source": [
    "import pandas as pd\n",
    "\n",
    "df1 = pd.DataFrame([[1, 2, 3]], columns=['a', 'b', 'c'])\n",
    "df2 = pd.DataFrame([[1, 1, 1]], columns=['c', 'd', 'e'])\n",
    "\n",
    "print(df1 + df2)\n"
   ]
  },
  {
   "cell_type": "code",
   "execution_count": 4,
   "metadata": {},
   "outputs": [
    {
     "name": "stdout",
     "output_type": "stream",
     "text": [
      "   0  1  2\n",
      "0  2  3  4\n",
      "   0\n",
      "0  3\n",
      "   0   1   2\n",
      "0  2 NaN NaN\n"
     ]
    }
   ],
   "source": [
    "import pandas as pd\n",
    "\n",
    "df = pd.DataFrame([[1, 2, 3]])\n",
    "\n",
    "print(df + 1)\n",
    "print (pd.DataFrame([3]))\n",
    "print(df + pd.DataFrame([1]))\n",
    "\n"
   ]
  },
  {
   "cell_type": "code",
   "execution_count": 5,
   "metadata": {},
   "outputs": [
    {
     "name": "stdout",
     "output_type": "stream",
     "text": [
      "       0      1     2\n",
      "0  False  False  True\n",
      "    0   1  2\n",
      "0 NaN NaN  3\n"
     ]
    }
   ],
   "source": [
    "print(df > 2)\n",
    "#        A      B     C\n",
    "# a  False  False  True\n",
    "# b   True   True  True\n",
    "\n",
    "print(df[df > 2])\n",
    "#      A    B  C\n",
    "# a  NaN  NaN  3\n",
    "# b  4.0  5.0  6"
   ]
  },
  {
   "cell_type": "code",
   "execution_count": 1,
   "metadata": {},
   "outputs": [
    {
     "name": "stdout",
     "output_type": "stream",
     "text": [
      "name\n",
      "age\n"
     ]
    }
   ],
   "source": [
    "import pandas as pd\n",
    "\n",
    "df = pd.DataFrame({\n",
    "  'name': ['Alice', 'Bob'],\n",
    "  'age': [20, 32]\n",
    "})\n",
    "\n",
    "for c in df:\n",
    "  print(c)"
   ]
  },
  {
   "cell_type": "code",
   "execution_count": 2,
   "metadata": {},
   "outputs": [
    {
     "name": "stdout",
     "output_type": "stream",
     "text": [
      "name    Alice\n",
      "age        20\n",
      "Name: 0, dtype: object\n",
      "name    Bob\n",
      "age      32\n",
      "Name: 1, dtype: object\n"
     ]
    }
   ],
   "source": [
    "import pandas as pd\n",
    "\n",
    "df = pd.DataFrame({\n",
    "  'name': ['Alice', 'Bob'],\n",
    "  'age': [20, 32]\n",
    "})\n",
    "\n",
    "for i in range(len(df)):\n",
    "  print(df.iloc[i])"
   ]
  },
  {
   "cell_type": "code",
   "execution_count": 3,
   "metadata": {},
   "outputs": [
    {
     "name": "stdout",
     "output_type": "stream",
     "text": [
      "('name', 0    Alice\n",
      "1      Bob\n",
      "Name: name, dtype: object)\n",
      "('age', 0    20\n",
      "1    32\n",
      "Name: age, dtype: int64)\n",
      "(0, name    Alice\n",
      "age        20\n",
      "Name: 0, dtype: object)\n",
      "(1, name    Bob\n",
      "age      32\n",
      "Name: 1, dtype: object)\n",
      "Pandas(Index=0, name='Alice', age=20)\n",
      "Pandas(Index=1, name='Bob', age=32)\n"
     ]
    }
   ],
   "source": [
    "for d in df.iteritems():\n",
    "  print(d)\n",
    "\n",
    "for d in df.iterrows():\n",
    "  print(d)\n",
    "\n",
    "for d in df.itertuples():\n",
    "  print(d)"
   ]
  },
  {
   "cell_type": "code",
   "execution_count": 4,
   "metadata": {},
   "outputs": [
    {
     "name": "stdout",
     "output_type": "stream",
     "text": [
      "('name', 0    Alice\n",
      "1      Bob\n",
      "Name: name, dtype: object)\n",
      "('age', 0    20\n",
      "1    32\n",
      "Name: age, dtype: int64)\n",
      "(0, name    Alice\n",
      "age        20\n",
      "Name: 0, dtype: object)\n",
      "(1, name    Bob\n",
      "age      32\n",
      "Name: 1, dtype: object)\n",
      "Pandas(Index=0, name='Alice', age=20)\n",
      "Pandas(Index=1, name='Bob', age=32)\n"
     ]
    }
   ],
   "source": [
    "for d in df.iteritems():\n",
    "  print(d)\n",
    "\n",
    "for d in df.iterrows():\n",
    "  print(d)\n",
    "\n",
    "for d in df.itertuples():\n",
    "  print(d)"
   ]
  },
  {
   "cell_type": "code",
   "execution_count": 1,
   "metadata": {},
   "outputs": [
    {
     "name": "stdout",
     "output_type": "stream",
     "text": [
      "   a\n",
      "0  1\n",
      "1  2\n"
     ]
    }
   ],
   "source": [
    "import pandas as pd\n",
    "\n",
    "df = pd.DataFrame([[1], [2]], columns = ['a'])\n",
    "print(df)"
   ]
  },
  {
   "cell_type": "code",
   "execution_count": 2,
   "metadata": {},
   "outputs": [
    {
     "name": "stdout",
     "output_type": "stream",
     "text": [
      "   a  b\n",
      "0  1  3\n",
      "1  2  4\n"
     ]
    }
   ],
   "source": [
    "df['b'] = pd.Series([3, 4])\n",
    "print(df)"
   ]
  },
  {
   "cell_type": "code",
   "execution_count": 13,
   "metadata": {},
   "outputs": [
    {
     "name": "stdout",
     "output_type": "stream",
     "text": [
      "   a  b  c  d\n",
      "0  1  2  3  4\n"
     ]
    }
   ],
   "source": [
    "import pandas as pd\n",
    "\n",
    "df = pd.DataFrame([[1, 2, 3, 4]], columns = ['a', 'b','c','d'])\n",
    "print(df)"
   ]
  },
  {
   "cell_type": "code",
   "execution_count": 16,
   "metadata": {},
   "outputs": [
    {
     "name": "stdout",
     "output_type": "stream",
     "text": [
      "     a    b  c  d\n",
      "0  1.0  2.0  3  4\n",
      "0  NaN  NaN  5  4\n",
      "0  NaN  NaN  5  4\n",
      "0  NaN  NaN  5  4\n"
     ]
    }
   ],
   "source": [
    "df = df.append(pd.DataFrame([[5, 4]], columns = ['c', 'd']))\n",
    "print(df)"
   ]
  },
  {
   "cell_type": "code",
   "execution_count": 17,
   "metadata": {},
   "outputs": [
    {
     "name": "stdout",
     "output_type": "stream",
     "text": [
      "     a    b    c    d\n",
      "0  1.0  2.0  3.0  4.0\n",
      "1  NaN  NaN  5.0  4.0\n",
      "2  NaN  NaN  5.0  4.0\n",
      "3  NaN  NaN  5.0  4.0\n",
      "4  3.0  4.0  NaN  NaN\n"
     ]
    }
   ],
   "source": [
    "df = df.append(pd.DataFrame([[3, 4]], columns = ['a', 'b']))\n",
    "df = df.reset_index(drop=True)\n",
    "print(df)"
   ]
  },
  {
   "cell_type": "code",
   "execution_count": 27,
   "metadata": {},
   "outputs": [
    {
     "name": "stdout",
     "output_type": "stream",
     "text": [
      "   a  b  c\n",
      "0  1  2  3\n"
     ]
    }
   ],
   "source": [
    "import pandas as pd\n",
    "\n",
    "df = pd.DataFrame([[1, 2, 3]], columns = ['a', 'b', 'c'])\n",
    "print(df)"
   ]
  },
  {
   "cell_type": "code",
   "execution_count": 28,
   "metadata": {},
   "outputs": [
    {
     "name": "stdout",
     "output_type": "stream",
     "text": [
      "   b\n",
      "0  2\n"
     ]
    }
   ],
   "source": [
    "del df['a']\n",
    "df.pop('c')\n",
    "print(df)"
   ]
  },
  {
   "cell_type": "code",
   "execution_count": 29,
   "metadata": {},
   "outputs": [
    {
     "name": "stdout",
     "output_type": "stream",
     "text": [
      "   a\n",
      "0  1\n",
      "1  2\n"
     ]
    }
   ],
   "source": [
    "import pandas as pd\n",
    "\n",
    "df = pd.DataFrame([[1], [2]], columns = ['a'])\n",
    "print(df)"
   ]
  },
  {
   "cell_type": "code",
   "execution_count": 30,
   "metadata": {},
   "outputs": [
    {
     "name": "stdout",
     "output_type": "stream",
     "text": [
      "   a\n",
      "0  1\n"
     ]
    }
   ],
   "source": [
    "df = df.drop(1)\n",
    "print(df)"
   ]
  },
  {
   "cell_type": "code",
   "execution_count": 31,
   "metadata": {},
   "outputs": [
    {
     "data": {
      "text/html": [
       "<div>\n",
       "<style scoped>\n",
       "    .dataframe tbody tr th:only-of-type {\n",
       "        vertical-align: middle;\n",
       "    }\n",
       "\n",
       "    .dataframe tbody tr th {\n",
       "        vertical-align: top;\n",
       "    }\n",
       "\n",
       "    .dataframe thead th {\n",
       "        text-align: right;\n",
       "    }\n",
       "</style>\n",
       "<table border=\"1\" class=\"dataframe\">\n",
       "  <thead>\n",
       "    <tr style=\"text-align: right;\">\n",
       "      <th></th>\n",
       "      <th>id</th>\n",
       "      <th>Name</th>\n",
       "    </tr>\n",
       "  </thead>\n",
       "  <tbody>\n",
       "    <tr>\n",
       "      <th>0</th>\n",
       "      <td>1</td>\n",
       "      <td>Alex</td>\n",
       "    </tr>\n",
       "    <tr>\n",
       "      <th>1</th>\n",
       "      <td>2</td>\n",
       "      <td>Amy</td>\n",
       "    </tr>\n",
       "    <tr>\n",
       "      <th>2</th>\n",
       "      <td>1</td>\n",
       "      <td>Bob</td>\n",
       "    </tr>\n",
       "    <tr>\n",
       "      <th>3</th>\n",
       "      <td>2</td>\n",
       "      <td>Tom</td>\n",
       "    </tr>\n",
       "  </tbody>\n",
       "</table>\n",
       "</div>"
      ],
      "text/plain": [
       "   id  Name\n",
       "0   1  Alex\n",
       "1   2   Amy\n",
       "2   1   Bob\n",
       "3   2   Tom"
      ]
     },
     "execution_count": 31,
     "metadata": {},
     "output_type": "execute_result"
    }
   ],
   "source": [
    "one = pd.DataFrame({\n",
    "    'id':[1, 2],\n",
    "    'Name': ['Alex', 'Amy'],\n",
    "})\n",
    "two = pd.DataFrame({\n",
    "    'id':[1, 2],\n",
    "    'Name': ['Bob', 'Tom']\n",
    "})\n",
    "\n",
    "pd.concat([one, two]).reset_index(drop=True)"
   ]
  },
  {
   "cell_type": "code",
   "execution_count": 32,
   "metadata": {},
   "outputs": [
    {
     "data": {
      "text/html": [
       "<div>\n",
       "<style scoped>\n",
       "    .dataframe tbody tr th:only-of-type {\n",
       "        vertical-align: middle;\n",
       "    }\n",
       "\n",
       "    .dataframe tbody tr th {\n",
       "        vertical-align: top;\n",
       "    }\n",
       "\n",
       "    .dataframe thead th {\n",
       "        text-align: right;\n",
       "    }\n",
       "</style>\n",
       "<table border=\"1\" class=\"dataframe\">\n",
       "  <thead>\n",
       "    <tr style=\"text-align: right;\">\n",
       "      <th></th>\n",
       "      <th>id</th>\n",
       "      <th>Name</th>\n",
       "      <th>Score</th>\n",
       "    </tr>\n",
       "  </thead>\n",
       "  <tbody>\n",
       "    <tr>\n",
       "      <th>0</th>\n",
       "      <td>1</td>\n",
       "      <td>Alex</td>\n",
       "      <td>98</td>\n",
       "    </tr>\n",
       "    <tr>\n",
       "      <th>1</th>\n",
       "      <td>2</td>\n",
       "      <td>Amy</td>\n",
       "      <td>60</td>\n",
       "    </tr>\n",
       "  </tbody>\n",
       "</table>\n",
       "</div>"
      ],
      "text/plain": [
       "   id  Name  Score\n",
       "0   1  Alex     98\n",
       "1   2   Amy     60"
      ]
     },
     "execution_count": 32,
     "metadata": {},
     "output_type": "execute_result"
    }
   ],
   "source": [
    "one = pd.DataFrame({\n",
    "    'id':[1, 2],\n",
    "    'Name': ['Alex', 'Amy'],\n",
    "})\n",
    "two = pd.DataFrame({\n",
    "    'id':[1, 2],\n",
    "    'Score': [98, 60]\n",
    "})\n",
    "\n",
    "pd.merge(one, two, on='id')"
   ]
  },
  {
   "cell_type": "code",
   "execution_count": 34,
   "metadata": {},
   "outputs": [
    {
     "name": "stdout",
     "output_type": "stream",
     "text": [
      "     A      B  C   D\n",
      "0  foo    one  1  10\n",
      "1  bar    one  2  20\n",
      "2  foo    two  3  30\n",
      "3  bar  three  4  40\n"
     ]
    }
   ],
   "source": [
    "df = pd.DataFrame({\n",
    "  'A' : ['foo', 'bar', 'foo', 'bar'],\n",
    "  'B' : ['one', 'one', 'two', 'three'],\n",
    "  'C' : [1,2,3,4],\n",
    "  'D' : [10, 20, 30, 40]\n",
    "})\n",
    "print (df)"
   ]
  },
  {
   "cell_type": "code",
   "execution_count": 35,
   "metadata": {},
   "outputs": [
    {
     "data": {
      "text/html": [
       "<div>\n",
       "<style scoped>\n",
       "    .dataframe tbody tr th:only-of-type {\n",
       "        vertical-align: middle;\n",
       "    }\n",
       "\n",
       "    .dataframe tbody tr th {\n",
       "        vertical-align: top;\n",
       "    }\n",
       "\n",
       "    .dataframe thead th {\n",
       "        text-align: right;\n",
       "    }\n",
       "</style>\n",
       "<table border=\"1\" class=\"dataframe\">\n",
       "  <thead>\n",
       "    <tr style=\"text-align: right;\">\n",
       "      <th></th>\n",
       "      <th></th>\n",
       "      <th>C</th>\n",
       "      <th>D</th>\n",
       "    </tr>\n",
       "    <tr>\n",
       "      <th>A</th>\n",
       "      <th>B</th>\n",
       "      <th></th>\n",
       "      <th></th>\n",
       "    </tr>\n",
       "  </thead>\n",
       "  <tbody>\n",
       "    <tr>\n",
       "      <th rowspan=\"2\" valign=\"top\">bar</th>\n",
       "      <th>one</th>\n",
       "      <td>2</td>\n",
       "      <td>20</td>\n",
       "    </tr>\n",
       "    <tr>\n",
       "      <th>three</th>\n",
       "      <td>4</td>\n",
       "      <td>40</td>\n",
       "    </tr>\n",
       "    <tr>\n",
       "      <th rowspan=\"2\" valign=\"top\">foo</th>\n",
       "      <th>one</th>\n",
       "      <td>1</td>\n",
       "      <td>10</td>\n",
       "    </tr>\n",
       "    <tr>\n",
       "      <th>two</th>\n",
       "      <td>3</td>\n",
       "      <td>30</td>\n",
       "    </tr>\n",
       "  </tbody>\n",
       "</table>\n",
       "</div>"
      ],
      "text/plain": [
       "           C   D\n",
       "A   B           \n",
       "bar one    2  20\n",
       "    three  4  40\n",
       "foo one    1  10\n",
       "    two    3  30"
      ]
     },
     "execution_count": 35,
     "metadata": {},
     "output_type": "execute_result"
    }
   ],
   "source": [
    "df.groupby('A').sum()\n",
    "df.groupby('A').agg(sum)\n",
    "df.groupby(['A','B']).sum()"
   ]
  },
  {
   "cell_type": "code",
   "execution_count": null,
   "metadata": {},
   "outputs": [],
   "source": []
  }
 ],
 "metadata": {
  "kernelspec": {
   "display_name": "Python 3",
   "language": "python",
   "name": "python3"
  },
  "language_info": {
   "codemirror_mode": {
    "name": "ipython",
    "version": 3
   },
   "file_extension": ".py",
   "mimetype": "text/x-python",
   "name": "python",
   "nbconvert_exporter": "python",
   "pygments_lexer": "ipython3",
   "version": "3.7.1"
  }
 },
 "nbformat": 4,
 "nbformat_minor": 2
}
