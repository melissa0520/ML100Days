{
 "cells": [
  {
   "cell_type": "markdown",
   "metadata": {
    "colab_type": "text",
    "id": "P6xk2_jLsvFF"
   },
   "source": [
    "# [作業目標]\n",
    "\n",
    "1. 請比較對一個 100 x 100 * 100 的陣列，使用不同方法對每一個元素 +1 的時間比較。\n",
    "\n",
    "2. 如何從一個陣列中，找出出現頻率最高的數值與位置？\n",
    "\n",
    "3. 如何利用 list(...) 實現 a.tolist() 的效果？試著用程式實作。\n"
   ]
  },
  {
   "cell_type": "markdown",
   "metadata": {
    "colab_type": "text",
    "id": "uXGll28asvFS"
   },
   "source": [
    "# 作業 "
   ]
  },
  {
   "cell_type": "markdown",
   "metadata": {},
   "source": [
    "### 1. 請比較對一個 1000 x 100 x 100 的陣列，使用不同方法對每一個元素 +1 的時間比較。\n",
    "\n",
    "\n"
   ]
  },
  {
   "cell_type": "code",
   "execution_count": 9,
   "metadata": {},
   "outputs": [],
   "source": [
    "# 記得先 Import 正確的套件\n",
    "\n",
    "import numpy as np"
   ]
  },
  {
   "cell_type": "code",
   "execution_count": 12,
   "metadata": {
    "colab": {},
    "colab_type": "code",
    "id": "5QrYoyNWsvFS"
   },
   "outputs": [],
   "source": [
    "Z = np.random.randint(0, 10, 1000000).reshape(100, 100, 100)"
   ]
  },
  {
   "cell_type": "code",
   "execution_count": 15,
   "metadata": {},
   "outputs": [
    {
     "name": "stdout",
     "output_type": "stream",
     "text": [
      "30.5 ns ± 18 ns per loop (mean ± std. dev. of 7 runs, 10 loops each)\n"
     ]
    }
   ],
   "source": [
    "%timeit -n 10 a = 2\n",
    "Z = Z+1\n",
    "#直接+1"
   ]
  },
  {
   "cell_type": "code",
   "execution_count": 5,
   "metadata": {},
   "outputs": [
    {
     "name": "stdout",
     "output_type": "stream",
     "text": [
      "30.7 ns ± 17.2 ns per loop (mean ± std. dev. of 7 runs, 10 loops each)\n"
     ]
    }
   ],
   "source": [
    "%timeit -n 10 a = 2\n",
    "\n",
    "Z2 = []\n",
    "\n",
    "for i in Z.flat:\n",
    "    Z2.append(i+1)\n",
    "Z2 = np.array(Z2).reshape(100,100,100)\n",
    "#用flat攤平"
   ]
  },
  {
   "cell_type": "code",
   "execution_count": 8,
   "metadata": {},
   "outputs": [
    {
     "name": "stdout",
     "output_type": "stream",
     "text": [
      "27.3 ns ± 10.1 ns per loop (mean ± std. dev. of 7 runs, 10 loops each)\n"
     ]
    }
   ],
   "source": [
    "%timeit -n 10 a = 2\n",
    "\n",
    "Z3 = []\n",
    "\n",
    "for i in np.nditer (Z, order = 'C'):\n",
    "    Z3.append(i+1)\n",
    "Z3 = np.array(Z3, dtype = int).reshape(100,100,100)\n",
    "#用nditer"
   ]
  },
  {
   "cell_type": "markdown",
   "metadata": {},
   "source": [
    "### 2. 如何從一個陣列中，找出出現頻率最高的數值與位置？\n"
   ]
  },
  {
   "cell_type": "code",
   "execution_count": 24,
   "metadata": {
    "colab": {},
    "colab_type": "code",
    "id": "e1gVI0tvsvFY"
   },
   "outputs": [
    {
     "name": "stdout",
     "output_type": "stream",
     "text": [
      "[5 2 4 8 1 7 1 6 7 1 3 0 4 5 1 2 4 9 2 8 6 7 1 6 6 6 0 1 9 7 7 3 4 1 0 8 6\n",
      " 1 8 8 8 3 1 9 6 6 6 8 5 9]\n"
     ]
    }
   ],
   "source": [
    "\n",
    "Z = np.random.randint(0,10,50)\n",
    "print(Z)\n"
   ]
  },
  {
   "cell_type": "code",
   "execution_count": 26,
   "metadata": {},
   "outputs": [
    {
     "name": "stdout",
     "output_type": "stream",
     "text": [
      "[0 1 2 3 4 5 6 7 8 9]\n",
      "[3 9 3 3 4 3 9 5 7 4]\n",
      "頻率最高的數值: 1\n",
      "頻率最高的數值的次數: 9\n"
     ]
    }
   ],
   "source": [
    "uni,count = np.unique(Z, return_counts = True)\n",
    "print(uni,count, sep='\\n')\n",
    "\n",
    "print('頻率最高的數值:',uni[np.argmax(count)])\n",
    "print('頻率最高的數值的次數:',max(count))\n",
    "\n"
   ]
  },
  {
   "cell_type": "code",
   "execution_count": 29,
   "metadata": {},
   "outputs": [
    {
     "name": "stdout",
     "output_type": "stream",
     "text": [
      "頻率最高的數值的位置: [ 4  6  9 14 22 27 33 37 42]\n"
     ]
    }
   ],
   "source": [
    "print('頻率最高的數值的位置:',np.where(Z==uni[np.argmax(count)])[0])\n",
    "#np.where()[0] 表示行索引，np.where()[1]表示列索引"
   ]
  },
  {
   "cell_type": "markdown",
   "metadata": {},
   "source": [
    "### 3. 如何利用 list(...) 實現 a.tolist() 的效果？試著用程式實作。\n"
   ]
  },
  {
   "cell_type": "code",
   "execution_count": 30,
   "metadata": {},
   "outputs": [
    {
     "name": "stdout",
     "output_type": "stream",
     "text": [
      "[3, 6, 2, 8, 2, 3]\n",
      "[3, 6, 2, 8, 2, 3]\n",
      "[[9, 1, 1, 5], [5, 7, 0, 0], [7, 2, 6, 1]]\n",
      "[array([9, 1, 1, 5]), array([5, 7, 0, 0]), array([7, 2, 6, 1])]\n",
      "[[[7, 9], [5, 3], [3, 2]], [[2, 9], [4, 3], [5, 7]]]\n",
      "[array([[7, 9],\n",
      "       [5, 3],\n",
      "       [3, 2]]), array([[2, 9],\n",
      "       [4, 3],\n",
      "       [5, 7]])]\n"
     ]
    }
   ],
   "source": [
    "a = np.random.randint(10, size=6) \n",
    "\n",
    "print(a.tolist())\n",
    "print(list(a))\n",
    "\n",
    "\n",
    "b = np.random.randint(10, size=(3,4)) \n",
    "\n",
    "print(b.tolist())\n",
    "print(list(b))\n",
    "\n",
    "\n",
    "c = np.random.randint(10, size=(2,3,2)) \n",
    "\n",
    "print(c.tolist())\n",
    "print(list(c))\n"
   ]
  },
  {
   "cell_type": "code",
   "execution_count": 32,
   "metadata": {},
   "outputs": [
    {
     "name": "stdout",
     "output_type": "stream",
     "text": [
      "[3, 6, 2, 8, 2, 3]\n",
      "[[9, 1, 1, 5]]\n",
      "[[9, 1, 1, 5], [5, 7, 0, 0]]\n",
      "[[9, 1, 1, 5], [5, 7, 0, 0], [7, 2, 6, 1]]\n",
      "[[[7, 9], [5, 3], [3, 2]], [[2, 9], [4, 3], [5, 7]]]\n"
     ]
    }
   ],
   "source": [
    "'a'\n",
    "print(list(a))\n",
    "\n",
    "b_list=[]\n",
    "for i in b:\n",
    "    b_list.append(list(i))\n",
    "    print(b_list)\n",
    "\n",
    "c_all_list=[]\n",
    "for i in range(c.shape[0]):\n",
    "    c_list=[]\n",
    "    for j in range(c.shape[1]):\n",
    "        c_list.append(list(c[i][j]))\n",
    "    c_all_list.append(c_list)\n",
    "\n",
    "print(c_all_list)"
   ]
  },
  {
   "cell_type": "code",
   "execution_count": null,
   "metadata": {},
   "outputs": [],
   "source": []
  }
 ],
 "metadata": {
  "colab": {
   "name": "Day_023_HW.ipynb",
   "provenance": []
  },
  "kernelspec": {
   "display_name": "Python 3",
   "language": "python",
   "name": "python3"
  },
  "language_info": {
   "codemirror_mode": {
    "name": "ipython",
    "version": 3
   },
   "file_extension": ".py",
   "mimetype": "text/x-python",
   "name": "python",
   "nbconvert_exporter": "python",
   "pygments_lexer": "ipython3",
   "version": "3.7.1"
  }
 },
 "nbformat": 4,
 "nbformat_minor": 1
}
